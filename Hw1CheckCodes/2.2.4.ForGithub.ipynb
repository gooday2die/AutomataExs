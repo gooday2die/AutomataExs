{
 "cells": [
  {
   "cell_type": "code",
   "execution_count": 1,
   "metadata": {},
   "outputs": [],
   "source": [
    "class state:\n",
    "    def __init__ (self, name, in_1_state, in_2_state):\n",
    "        self.name = name\n",
    "        self.in_1_state = in_1_state\n",
    "        self.in_2_state = in_2_state\n",
    "    def state_input (input_bin):\n",
    "        pass\n",
    "        "
   ]
  },
  {
   "cell_type": "code",
   "execution_count": 2,
   "metadata": {},
   "outputs": [],
   "source": [
    "def check_which_dfa_case(string):\n",
    "    \"\"\"\n",
    "     A function that shows which case the DFA was accepted.\n",
    "     @param {string} The \"String\" type of the input string of DFA\n",
    "    \"\"\"\n",
    "    if string.endswith('00'): # In this case the string was ended with 00\n",
    "        print(\"Accepted due to Case A\")\n",
    "\n",
    "    elif \"000\" in string: # in this case the string has continous 3 0s\n",
    "        print(\"Accepted due to Case B\")\n",
    "\n",
    "    elif \"011\" in string: # in this case the string has at least one 011\n",
    "        print(\"Accepted due to Case C\")\n",
    "\n",
    "    else:\n",
    "        print(\"DFA ERROR\")"
   ]
  },
  {
   "cell_type": "code",
   "execution_count": 3,
   "metadata": {},
   "outputs": [],
   "source": [
    "def rule(input_string_arr):\n",
    "    \"\"\"\n",
    "    A function that shows if the input string was registered\n",
    "    @param {list} The input string of DFA to find out\n",
    "    @returns {bool} True if accepted, False if not accepted\n",
    "    \"\"\"\n",
    "    curr_state = 'a'  # Since the start state would be a\n",
    "    end_state = ['c', 'd']  # Since the final state is just c and d\n",
    "    temp_input_string_arr = list()  \n",
    "    \n",
    "    for i in input_string_arr:\n",
    "        temp_input_string_arr.append(int(i))\n",
    "    print(temp_input_string_arr, end=\" : \")\n",
    "\n",
    "    print(curr_state, end='-')\n",
    "    \n",
    "    for i in input_string_arr:\n",
    "        #print(i)\n",
    "        if curr_state == 'a':\n",
    "            if i == 1 or i == '1':  # The input is honestly quite fucked up. I do not know whether this is int or str... :b\n",
    "                curr_state = 'a'\n",
    "            else :\n",
    "                curr_state = 'b'\n",
    "            print(curr_state, end='-')\n",
    "                \n",
    "        elif curr_state == 'b':\n",
    "            if i == 1 or i == '1':\n",
    "                curr_state = 'e'\n",
    "            else :\n",
    "                curr_state = 'c'\n",
    "            print(curr_state, end='-')\n",
    "\n",
    "        elif curr_state == 'c':\n",
    "            if i == 1 or i == '1':\n",
    "                curr_state = 'e'\n",
    "            else:\n",
    "                curr_state = 'd'\n",
    "            print(curr_state, end='-')\n",
    "\n",
    "        \n",
    "        elif curr_state == \"d\":\n",
    "            if i == 1 or i == '1':\n",
    "                curr_state = 'd'\n",
    "            else:\n",
    "                curr_state = 'd'\n",
    "            print(curr_state, end='-')\n",
    "\n",
    "        elif curr_state == 'e':\n",
    "            if i == 1 or i == '1':\n",
    "                curr_state = 'd'\n",
    "            else:\n",
    "                curr_state = 'b'\n",
    "            print(curr_state, end='-')\n",
    "\n",
    "    if curr_state in end_state:\n",
    "        print(\"\\b\\t\\tAccepted\\t\\t\", end='')\n",
    "        check_which_dfa_case(''.join(input_string_arr))  # If it is accepted, we show why it is accepted\n",
    "        return True\n",
    "\n",
    "    else :\n",
    "        print(\"\\b\\t\\tNot Accepted\")\n",
    "        return False"
   ]
  },
  {
   "cell_type": "code",
   "execution_count": 4,
   "metadata": {},
   "outputs": [
    {
     "name": "stdout",
     "output_type": "stream",
     "text": [
      "[1, 0, 1, 0, 1] : a-a-b-e-b-e-\b\t\tNot Accepted\n"
     ]
    },
    {
     "data": {
      "text/plain": [
       "False"
      ]
     },
     "execution_count": 4,
     "metadata": {},
     "output_type": "execute_result"
    }
   ],
   "source": [
    "input_string_arr = ['1','0','1','0','1']  # Test case 10101\n",
    "rule(input_string_arr)"
   ]
  },
  {
   "cell_type": "code",
   "execution_count": 215,
   "metadata": {},
   "outputs": [
    {
     "name": "stdout",
     "output_type": "stream",
     "text": [
      "[1, 0, 0, 0, 0] : a-a-b-c-d-d-\b\t\tAccepted\t\tAccepted due to Case A\n"
     ]
    },
    {
     "data": {
      "text/plain": [
       "True"
      ]
     },
     "execution_count": 215,
     "metadata": {},
     "output_type": "execute_result"
    }
   ],
   "source": [
    "input_string_arr = ['1','0','0','0','0']  # Test case 10000\n",
    "rule(input_string_arr)"
   ]
  },
  {
   "cell_type": "code",
   "execution_count": 216,
   "metadata": {},
   "outputs": [],
   "source": [
    "import itertools\n",
    "\n",
    "def generate_input_string(n):\n",
    "    \"\"\"\n",
    "    A function for generating all the binary strings for n digits\n",
    "    @param {int} n the length of string\n",
    "    @returns {list} the total list of strings \n",
    "    \"\"\"\n",
    "    result = []\n",
    "    for k in range(n+1):\n",
    "        for bits in itertools.combinations(range(n), k):\n",
    "            s = ['0'] * n\n",
    "            for bit in bits:\n",
    "                s[bit] = '1'\n",
    "            result.append(s)\n",
    "    print(\"Total Strings : \" + str(len((result))))\n",
    "    return result\n"
   ]
  },
  {
   "cell_type": "code",
   "execution_count": 209,
   "metadata": {},
   "outputs": [
    {
     "name": "stdout",
     "output_type": "stream",
     "text": [
      "Total Strings : 32\n"
     ]
    }
   ],
   "source": [
    "len5 = generate_input_string(5)  # Test Case when n is 5"
   ]
  },
  {
   "cell_type": "code",
   "execution_count": 213,
   "metadata": {},
   "outputs": [
    {
     "name": "stdout",
     "output_type": "stream",
     "text": [
      "[0, 0, 0, 0, 0] : a-b-c-d-d-d-\b\t\tAccepted\t\tAccepted due to Case A\n",
      "[1, 0, 0, 0, 0] : a-a-b-c-d-d-\b\t\tAccepted\t\tAccepted due to Case A\n",
      "[0, 1, 0, 0, 0] : a-b-e-b-c-d-\b\t\tAccepted\t\tAccepted due to Case A\n",
      "[0, 0, 1, 0, 0] : a-b-c-e-b-c-\b\t\tAccepted\t\tAccepted due to Case A\n",
      "[0, 0, 0, 1, 0] : a-b-c-d-d-d-\b\t\tAccepted\t\tAccepted due to Case B\n",
      "[0, 0, 0, 0, 1] : a-b-c-d-d-d-\b\t\tAccepted\t\tAccepted due to Case B\n",
      "[1, 1, 0, 0, 0] : a-a-a-b-c-d-\b\t\tAccepted\t\tAccepted due to Case A\n",
      "[1, 0, 1, 0, 0] : a-a-b-e-b-c-\b\t\tAccepted\t\tAccepted due to Case A\n",
      "[1, 0, 0, 1, 0] : a-a-b-c-e-b-\b\t\tNot Accepted\n",
      "[1, 0, 0, 0, 1] : a-a-b-c-d-d-\b\t\tAccepted\t\tAccepted due to Case B\n",
      "[0, 1, 1, 0, 0] : a-b-e-d-d-d-\b\t\tAccepted\t\tAccepted due to Case A\n",
      "[0, 1, 0, 1, 0] : a-b-e-b-e-b-\b\t\tNot Accepted\n",
      "[0, 1, 0, 0, 1] : a-b-e-b-c-e-\b\t\tNot Accepted\n",
      "[0, 0, 1, 1, 0] : a-b-c-e-d-d-\b\t\tAccepted\t\tAccepted due to Case C\n",
      "[0, 0, 1, 0, 1] : a-b-c-e-b-e-\b\t\tNot Accepted\n",
      "[0, 0, 0, 1, 1] : a-b-c-d-d-d-\b\t\tAccepted\t\tAccepted due to Case B\n",
      "[1, 1, 1, 0, 0] : a-a-a-a-b-c-\b\t\tAccepted\t\tAccepted due to Case A\n",
      "[1, 1, 0, 1, 0] : a-a-a-b-e-b-\b\t\tNot Accepted\n",
      "[1, 1, 0, 0, 1] : a-a-a-b-c-e-\b\t\tNot Accepted\n",
      "[1, 0, 1, 1, 0] : a-a-b-e-d-d-\b\t\tAccepted\t\tAccepted due to Case C\n",
      "[1, 0, 1, 0, 1] : a-a-b-e-b-e-\b\t\tNot Accepted\n",
      "[1, 0, 0, 1, 1] : a-a-b-c-e-d-\b\t\tAccepted\t\tAccepted due to Case C\n",
      "[0, 1, 1, 1, 0] : a-b-e-d-d-d-\b\t\tAccepted\t\tAccepted due to Case C\n",
      "[0, 1, 1, 0, 1] : a-b-e-d-d-d-\b\t\tAccepted\t\tAccepted due to Case C\n",
      "[0, 1, 0, 1, 1] : a-b-e-b-e-d-\b\t\tAccepted\t\tAccepted due to Case C\n",
      "[0, 0, 1, 1, 1] : a-b-c-e-d-d-\b\t\tAccepted\t\tAccepted due to Case C\n",
      "[1, 1, 1, 1, 0] : a-a-a-a-a-b-\b\t\tNot Accepted\n",
      "[1, 1, 1, 0, 1] : a-a-a-a-b-e-\b\t\tNot Accepted\n",
      "[1, 1, 0, 1, 1] : a-a-a-b-e-d-\b\t\tAccepted\t\tAccepted due to Case C\n",
      "[1, 0, 1, 1, 1] : a-a-b-e-d-d-\b\t\tAccepted\t\tAccepted due to Case C\n",
      "[0, 1, 1, 1, 1] : a-b-e-d-d-d-\b\t\tAccepted\t\tAccepted due to Case C\n",
      "[1, 1, 1, 1, 1] : a-a-a-a-a-a-\b\t\tNot Accepted\n"
     ]
    }
   ],
   "source": [
    "for i in len5:  # Test case when n is 5\n",
    "    rule(i)"
   ]
  },
  {
   "cell_type": "code",
   "execution_count": null,
   "metadata": {},
   "outputs": [],
   "source": [
    "#This is by Gooday2die @ https://github.com/gooday2die contact me via edina00@naver.com"
   ]
  }
 ],
 "metadata": {
  "kernelspec": {
   "display_name": "Python 3",
   "language": "python",
   "name": "python3"
  },
  "language_info": {
   "codemirror_mode": {
    "name": "ipython",
    "version": 3
   },
   "file_extension": ".py",
   "mimetype": "text/x-python",
   "name": "python",
   "nbconvert_exporter": "python",
   "pygments_lexer": "ipython3",
   "version": "3.7.6"
  }
 },
 "nbformat": 4,
 "nbformat_minor": 4
}
