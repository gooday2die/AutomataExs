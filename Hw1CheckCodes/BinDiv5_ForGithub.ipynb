{
 "cells": [
  {
   "cell_type": "code",
   "execution_count": null,
   "metadata": {},
   "outputs": [],
   "source": [
    "\"\"\"\n",
    "Problem\n",
    "Make a DFA which registers binary digit string which can be divided by 5\n",
    "\"\"\""
   ]
  },
  {
   "cell_type": "code",
   "execution_count": 13,
   "metadata": {},
   "outputs": [],
   "source": [
    "def rule(input_string):\n",
    "    \"\"\"\n",
    "    The function that finds out if the string is accepted or not\n",
    "    @param {string} the input string to find out\n",
    "    @returns {bool} True if accepted, False if not\n",
    "    \"\"\"\n",
    "    \n",
    "    current_state = '0'\n",
    "    finish_state = '0'\n",
    "    \n",
    "    print(\"Input String : \" + input_string, end='\\t\\t0-')\n",
    "    for i in input_string:\n",
    "        if current_state == '0':\n",
    "            if i == '0':\n",
    "                current_state = '0'\n",
    "            else:\n",
    "                current_state = '1'\n",
    "                \n",
    "        elif current_state == '1':\n",
    "            if i == '0':\n",
    "                current_state = '2'\n",
    "            else:\n",
    "                current_state = '3'\n",
    "            \n",
    "        elif current_state == '2':\n",
    "            if i == '0':\n",
    "                current_state = '4'\n",
    "            else:\n",
    "                current_state = '0'\n",
    "                \n",
    "        elif current_state == '3':\n",
    "            if i == '0':\n",
    "                current_state = '1'\n",
    "            else:\n",
    "                current_state = '2'\n",
    "                \n",
    "        elif current_state == '4':\n",
    "            if i == '0':\n",
    "                current_state = '3'\n",
    "            else:\n",
    "                current_state = '4'\n",
    "                \n",
    "        print (current_state, end='-')\n",
    "    \n",
    "    if current_state == finish_state:\n",
    "        print(\"\\b\\t\\t Accepted \\t\\t Value : \" + str(int(input_string, 2)))\n",
    "        return True\n",
    "    \n",
    "    else:\n",
    "        print(\"\\b\\t\\t Not Accepted \\t\\t Value : \" + str(int(input_string,2)))\n",
    "        return False\n"
   ]
  },
  {
   "cell_type": "code",
   "execution_count": 14,
   "metadata": {},
   "outputs": [
    {
     "name": "stdout",
     "output_type": "stream",
     "text": [
      "Input String : 101\t\t0-1-2-0-\b\t\t Accepted \t\t Value : 5\n"
     ]
    },
    {
     "data": {
      "text/plain": [
       "True"
      ]
     },
     "execution_count": 14,
     "metadata": {},
     "output_type": "execute_result"
    }
   ],
   "source": [
    "rule('101') # For checking if 101 which is 5 is accepted"
   ]
  },
  {
   "cell_type": "code",
   "execution_count": 15,
   "metadata": {},
   "outputs": [
    {
     "name": "stdout",
     "output_type": "stream",
     "text": [
      "Input String : 0\t\t0-0-\b\t\t Accepted \t\t Value : 0\n",
      "Input String : 1\t\t0-1-\b\t\t Not Accepted \t\t Value : 1\n",
      "Input String : 10\t\t0-1-2-\b\t\t Not Accepted \t\t Value : 2\n",
      "Input String : 11\t\t0-1-3-\b\t\t Not Accepted \t\t Value : 3\n",
      "Input String : 100\t\t0-1-2-4-\b\t\t Not Accepted \t\t Value : 4\n",
      "Input String : 101\t\t0-1-2-0-\b\t\t Accepted \t\t Value : 5\n",
      "Input String : 110\t\t0-1-3-1-\b\t\t Not Accepted \t\t Value : 6\n",
      "Input String : 111\t\t0-1-3-2-\b\t\t Not Accepted \t\t Value : 7\n",
      "Input String : 1000\t\t0-1-2-4-3-\b\t\t Not Accepted \t\t Value : 8\n",
      "Input String : 1001\t\t0-1-2-4-4-\b\t\t Not Accepted \t\t Value : 9\n",
      "Input String : 1010\t\t0-1-2-0-0-\b\t\t Accepted \t\t Value : 10\n",
      "Input String : 1011\t\t0-1-2-0-1-\b\t\t Not Accepted \t\t Value : 11\n",
      "Input String : 1100\t\t0-1-3-1-2-\b\t\t Not Accepted \t\t Value : 12\n",
      "Input String : 1101\t\t0-1-3-1-3-\b\t\t Not Accepted \t\t Value : 13\n",
      "Input String : 1110\t\t0-1-3-2-4-\b\t\t Not Accepted \t\t Value : 14\n",
      "Input String : 1111\t\t0-1-3-2-0-\b\t\t Accepted \t\t Value : 15\n",
      "Input String : 10000\t\t0-1-2-4-3-1-\b\t\t Not Accepted \t\t Value : 16\n",
      "Input String : 10001\t\t0-1-2-4-3-2-\b\t\t Not Accepted \t\t Value : 17\n",
      "Input String : 10010\t\t0-1-2-4-4-3-\b\t\t Not Accepted \t\t Value : 18\n",
      "Input String : 10011\t\t0-1-2-4-4-4-\b\t\t Not Accepted \t\t Value : 19\n",
      "Input String : 10100\t\t0-1-2-0-0-0-\b\t\t Accepted \t\t Value : 20\n",
      "Input String : 10101\t\t0-1-2-0-0-1-\b\t\t Not Accepted \t\t Value : 21\n",
      "Input String : 10110\t\t0-1-2-0-1-2-\b\t\t Not Accepted \t\t Value : 22\n",
      "Input String : 10111\t\t0-1-2-0-1-3-\b\t\t Not Accepted \t\t Value : 23\n",
      "Input String : 11000\t\t0-1-3-1-2-4-\b\t\t Not Accepted \t\t Value : 24\n",
      "Input String : 11001\t\t0-1-3-1-2-0-\b\t\t Accepted \t\t Value : 25\n",
      "Input String : 11010\t\t0-1-3-1-3-1-\b\t\t Not Accepted \t\t Value : 26\n",
      "Input String : 11011\t\t0-1-3-1-3-2-\b\t\t Not Accepted \t\t Value : 27\n",
      "Input String : 11100\t\t0-1-3-2-4-3-\b\t\t Not Accepted \t\t Value : 28\n",
      "Input String : 11101\t\t0-1-3-2-4-4-\b\t\t Not Accepted \t\t Value : 29\n",
      "Input String : 11110\t\t0-1-3-2-0-0-\b\t\t Accepted \t\t Value : 30\n",
      "Input String : 11111\t\t0-1-3-2-0-1-\b\t\t Not Accepted \t\t Value : 31\n",
      "Input String : 100000\t\t0-1-2-4-3-1-2-\b\t\t Not Accepted \t\t Value : 32\n",
      "Input String : 100001\t\t0-1-2-4-3-1-3-\b\t\t Not Accepted \t\t Value : 33\n",
      "Input String : 100010\t\t0-1-2-4-3-2-4-\b\t\t Not Accepted \t\t Value : 34\n",
      "Input String : 100011\t\t0-1-2-4-3-2-0-\b\t\t Accepted \t\t Value : 35\n",
      "Input String : 100100\t\t0-1-2-4-4-3-1-\b\t\t Not Accepted \t\t Value : 36\n",
      "Input String : 100101\t\t0-1-2-4-4-3-2-\b\t\t Not Accepted \t\t Value : 37\n",
      "Input String : 100110\t\t0-1-2-4-4-4-3-\b\t\t Not Accepted \t\t Value : 38\n",
      "Input String : 100111\t\t0-1-2-4-4-4-4-\b\t\t Not Accepted \t\t Value : 39\n",
      "Input String : 101000\t\t0-1-2-0-0-0-0-\b\t\t Accepted \t\t Value : 40\n",
      "Input String : 101001\t\t0-1-2-0-0-0-1-\b\t\t Not Accepted \t\t Value : 41\n",
      "Input String : 101010\t\t0-1-2-0-0-1-2-\b\t\t Not Accepted \t\t Value : 42\n",
      "Input String : 101011\t\t0-1-2-0-0-1-3-\b\t\t Not Accepted \t\t Value : 43\n",
      "Input String : 101100\t\t0-1-2-0-1-2-4-\b\t\t Not Accepted \t\t Value : 44\n",
      "Input String : 101101\t\t0-1-2-0-1-2-0-\b\t\t Accepted \t\t Value : 45\n",
      "Input String : 101110\t\t0-1-2-0-1-3-1-\b\t\t Not Accepted \t\t Value : 46\n",
      "Input String : 101111\t\t0-1-2-0-1-3-2-\b\t\t Not Accepted \t\t Value : 47\n",
      "Input String : 110000\t\t0-1-3-1-2-4-3-\b\t\t Not Accepted \t\t Value : 48\n",
      "Input String : 110001\t\t0-1-3-1-2-4-4-\b\t\t Not Accepted \t\t Value : 49\n",
      "Input String : 110010\t\t0-1-3-1-2-0-0-\b\t\t Accepted \t\t Value : 50\n",
      "Input String : 110011\t\t0-1-3-1-2-0-1-\b\t\t Not Accepted \t\t Value : 51\n",
      "Input String : 110100\t\t0-1-3-1-3-1-2-\b\t\t Not Accepted \t\t Value : 52\n",
      "Input String : 110101\t\t0-1-3-1-3-1-3-\b\t\t Not Accepted \t\t Value : 53\n",
      "Input String : 110110\t\t0-1-3-1-3-2-4-\b\t\t Not Accepted \t\t Value : 54\n",
      "Input String : 110111\t\t0-1-3-1-3-2-0-\b\t\t Accepted \t\t Value : 55\n",
      "Input String : 111000\t\t0-1-3-2-4-3-1-\b\t\t Not Accepted \t\t Value : 56\n",
      "Input String : 111001\t\t0-1-3-2-4-3-2-\b\t\t Not Accepted \t\t Value : 57\n",
      "Input String : 111010\t\t0-1-3-2-4-4-3-\b\t\t Not Accepted \t\t Value : 58\n",
      "Input String : 111011\t\t0-1-3-2-4-4-4-\b\t\t Not Accepted \t\t Value : 59\n",
      "Input String : 111100\t\t0-1-3-2-0-0-0-\b\t\t Accepted \t\t Value : 60\n",
      "Input String : 111101\t\t0-1-3-2-0-0-1-\b\t\t Not Accepted \t\t Value : 61\n",
      "Input String : 111110\t\t0-1-3-2-0-1-2-\b\t\t Not Accepted \t\t Value : 62\n",
      "Input String : 111111\t\t0-1-3-2-0-1-3-\b\t\t Not Accepted \t\t Value : 63\n",
      "Input String : 1000000\t\t0-1-2-4-3-1-2-4-\b\t\t Not Accepted \t\t Value : 64\n",
      "Input String : 1000001\t\t0-1-2-4-3-1-2-0-\b\t\t Accepted \t\t Value : 65\n",
      "Input String : 1000010\t\t0-1-2-4-3-1-3-1-\b\t\t Not Accepted \t\t Value : 66\n",
      "Input String : 1000011\t\t0-1-2-4-3-1-3-2-\b\t\t Not Accepted \t\t Value : 67\n",
      "Input String : 1000100\t\t0-1-2-4-3-2-4-3-\b\t\t Not Accepted \t\t Value : 68\n",
      "Input String : 1000101\t\t0-1-2-4-3-2-4-4-\b\t\t Not Accepted \t\t Value : 69\n",
      "Input String : 1000110\t\t0-1-2-4-3-2-0-0-\b\t\t Accepted \t\t Value : 70\n",
      "Input String : 1000111\t\t0-1-2-4-3-2-0-1-\b\t\t Not Accepted \t\t Value : 71\n",
      "Input String : 1001000\t\t0-1-2-4-4-3-1-2-\b\t\t Not Accepted \t\t Value : 72\n",
      "Input String : 1001001\t\t0-1-2-4-4-3-1-3-\b\t\t Not Accepted \t\t Value : 73\n",
      "Input String : 1001010\t\t0-1-2-4-4-3-2-4-\b\t\t Not Accepted \t\t Value : 74\n",
      "Input String : 1001011\t\t0-1-2-4-4-3-2-0-\b\t\t Accepted \t\t Value : 75\n",
      "Input String : 1001100\t\t0-1-2-4-4-4-3-1-\b\t\t Not Accepted \t\t Value : 76\n",
      "Input String : 1001101\t\t0-1-2-4-4-4-3-2-\b\t\t Not Accepted \t\t Value : 77\n",
      "Input String : 1001110\t\t0-1-2-4-4-4-4-3-\b\t\t Not Accepted \t\t Value : 78\n",
      "Input String : 1001111\t\t0-1-2-4-4-4-4-4-\b\t\t Not Accepted \t\t Value : 79\n",
      "Input String : 1010000\t\t0-1-2-0-0-0-0-0-\b\t\t Accepted \t\t Value : 80\n",
      "Input String : 1010001\t\t0-1-2-0-0-0-0-1-\b\t\t Not Accepted \t\t Value : 81\n",
      "Input String : 1010010\t\t0-1-2-0-0-0-1-2-\b\t\t Not Accepted \t\t Value : 82\n",
      "Input String : 1010011\t\t0-1-2-0-0-0-1-3-\b\t\t Not Accepted \t\t Value : 83\n",
      "Input String : 1010100\t\t0-1-2-0-0-1-2-4-\b\t\t Not Accepted \t\t Value : 84\n",
      "Input String : 1010101\t\t0-1-2-0-0-1-2-0-\b\t\t Accepted \t\t Value : 85\n",
      "Input String : 1010110\t\t0-1-2-0-0-1-3-1-\b\t\t Not Accepted \t\t Value : 86\n",
      "Input String : 1010111\t\t0-1-2-0-0-1-3-2-\b\t\t Not Accepted \t\t Value : 87\n",
      "Input String : 1011000\t\t0-1-2-0-1-2-4-3-\b\t\t Not Accepted \t\t Value : 88\n",
      "Input String : 1011001\t\t0-1-2-0-1-2-4-4-\b\t\t Not Accepted \t\t Value : 89\n",
      "Input String : 1011010\t\t0-1-2-0-1-2-0-0-\b\t\t Accepted \t\t Value : 90\n",
      "Input String : 1011011\t\t0-1-2-0-1-2-0-1-\b\t\t Not Accepted \t\t Value : 91\n",
      "Input String : 1011100\t\t0-1-2-0-1-3-1-2-\b\t\t Not Accepted \t\t Value : 92\n",
      "Input String : 1011101\t\t0-1-2-0-1-3-1-3-\b\t\t Not Accepted \t\t Value : 93\n",
      "Input String : 1011110\t\t0-1-2-0-1-3-2-4-\b\t\t Not Accepted \t\t Value : 94\n",
      "Input String : 1011111\t\t0-1-2-0-1-3-2-0-\b\t\t Accepted \t\t Value : 95\n",
      "Input String : 1100000\t\t0-1-3-1-2-4-3-1-\b\t\t Not Accepted \t\t Value : 96\n",
      "Input String : 1100001\t\t0-1-3-1-2-4-3-2-\b\t\t Not Accepted \t\t Value : 97\n",
      "Input String : 1100010\t\t0-1-3-1-2-4-4-3-\b\t\t Not Accepted \t\t Value : 98\n",
      "Input String : 1100011\t\t0-1-3-1-2-4-4-4-\b\t\t Not Accepted \t\t Value : 99\n"
     ]
    }
   ],
   "source": [
    "accepted_list = list() # For checking from 0 to 99 I was too lazy to fix it to 101 :b\n",
    "for i in range(100):\n",
    "    accepted_list.append(rule(\"{0:b}\".format(i)))"
   ]
  },
  {
   "cell_type": "code",
   "execution_count": null,
   "metadata": {},
   "outputs": [],
   "source": []
  }
 ],
 "metadata": {
  "kernelspec": {
   "display_name": "Python 3",
   "language": "python",
   "name": "python3"
  },
  "language_info": {
   "codemirror_mode": {
    "name": "ipython",
    "version": 3
   },
   "file_extension": ".py",
   "mimetype": "text/x-python",
   "name": "python",
   "nbconvert_exporter": "python",
   "pygments_lexer": "ipython3",
   "version": "3.7.6"
  }
 },
 "nbformat": 4,
 "nbformat_minor": 4
}
